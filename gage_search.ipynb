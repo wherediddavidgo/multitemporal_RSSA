{
  "nbformat": 4,
  "nbformat_minor": 0,
  "metadata": {
    "colab": {
      "provenance": [],
      "authorship_tag": "ABX9TyOaULG3gSpMTh9ReoML2QgU",
      "include_colab_link": true
    },
    "kernelspec": {
      "name": "python3",
      "display_name": "Python 3"
    },
    "language_info": {
      "name": "python"
    }
  },
  "cells": [
    {
      "cell_type": "markdown",
      "metadata": {
        "id": "view-in-github",
        "colab_type": "text"
      },
      "source": [
        "<a href=\"https://colab.research.google.com/github/wherediddavidgo/multitemporal_RSSA/blob/main/gage_search.ipynb\" target=\"_parent\"><img src=\"https://colab.research.google.com/assets/colab-badge.svg\" alt=\"Open In Colab\"/></a>"
      ]
    },
    {
      "cell_type": "code",
      "execution_count": 1,
      "metadata": {
        "id": "7s1TWy0Rr0hc",
        "outputId": "56a4d2ac-f2ad-40b5-ba32-98eadde272bb",
        "colab": {
          "base_uri": "https://localhost:8080/"
        }
      },
      "outputs": [
        {
          "output_type": "stream",
          "name": "stdout",
          "text": [
            "Collecting dataretrieval\n",
            "  Downloading dataretrieval-1.0.12-py3-none-any.whl.metadata (9.2 kB)\n",
            "Requirement already satisfied: requests in /usr/local/lib/python3.12/dist-packages (from dataretrieval) (2.32.4)\n",
            "Requirement already satisfied: pandas==2.* in /usr/local/lib/python3.12/dist-packages (from dataretrieval) (2.2.2)\n",
            "Requirement already satisfied: numpy>=1.26.0 in /usr/local/lib/python3.12/dist-packages (from pandas==2.*->dataretrieval) (2.0.2)\n",
            "Requirement already satisfied: python-dateutil>=2.8.2 in /usr/local/lib/python3.12/dist-packages (from pandas==2.*->dataretrieval) (2.9.0.post0)\n",
            "Requirement already satisfied: pytz>=2020.1 in /usr/local/lib/python3.12/dist-packages (from pandas==2.*->dataretrieval) (2025.2)\n",
            "Requirement already satisfied: tzdata>=2022.7 in /usr/local/lib/python3.12/dist-packages (from pandas==2.*->dataretrieval) (2025.2)\n",
            "Requirement already satisfied: charset_normalizer<4,>=2 in /usr/local/lib/python3.12/dist-packages (from requests->dataretrieval) (3.4.3)\n",
            "Requirement already satisfied: idna<4,>=2.5 in /usr/local/lib/python3.12/dist-packages (from requests->dataretrieval) (3.10)\n",
            "Requirement already satisfied: urllib3<3,>=1.21.1 in /usr/local/lib/python3.12/dist-packages (from requests->dataretrieval) (2.5.0)\n",
            "Requirement already satisfied: certifi>=2017.4.17 in /usr/local/lib/python3.12/dist-packages (from requests->dataretrieval) (2025.8.3)\n",
            "Requirement already satisfied: six>=1.5 in /usr/local/lib/python3.12/dist-packages (from python-dateutil>=2.8.2->pandas==2.*->dataretrieval) (1.17.0)\n",
            "Downloading dataretrieval-1.0.12-py3-none-any.whl (38 kB)\n",
            "Installing collected packages: dataretrieval\n",
            "Successfully installed dataretrieval-1.0.12\n"
          ]
        }
      ],
      "source": [
        "!pip install dataretrieval\n",
        "import dataretrieval.nwis as nwis\n",
        "import geopandas as gpd\n",
        "from google.colab import drive\n",
        "import pandas as pd\n",
        "from shapely.geometry import box\n",
        "from matplotlib import pyplot as plt"
      ]
    },
    {
      "cell_type": "code",
      "source": [
        "drive.mount('/content/drive')"
      ],
      "metadata": {
        "colab": {
          "base_uri": "https://localhost:8080/"
        },
        "id": "lYKn0CM3sIV1",
        "outputId": "b093d990-5c67-49f6-952e-b064b70ca38c"
      },
      "execution_count": 2,
      "outputs": [
        {
          "output_type": "stream",
          "name": "stdout",
          "text": [
            "Mounted at /content/drive\n"
          ]
        }
      ]
    },
    {
      "cell_type": "code",
      "source": [
        "nwis.get_info()"
      ],
      "metadata": {
        "id": "WnymTwOlNIqr",
        "outputId": "6d5cc093-c9e3-441b-f222-170d092ceaca",
        "colab": {
          "base_uri": "https://localhost:8080/",
          "height": 287
        }
      },
      "execution_count": 3,
      "outputs": [
        {
          "output_type": "error",
          "ename": "TypeError",
          "evalue": "Query must specify a major filter: sites, stateCd, bBox, huc, or countyCd",
          "traceback": [
            "\u001b[0;31m---------------------------------------------------------------------------\u001b[0m",
            "\u001b[0;31mTypeError\u001b[0m                                 Traceback (most recent call last)",
            "\u001b[0;32m/tmp/ipython-input-683900358.py\u001b[0m in \u001b[0;36m<cell line: 0>\u001b[0;34m()\u001b[0m\n\u001b[0;32m----> 1\u001b[0;31m \u001b[0mnwis\u001b[0m\u001b[0;34m.\u001b[0m\u001b[0mget_info\u001b[0m\u001b[0;34m(\u001b[0m\u001b[0;34m)\u001b[0m\u001b[0;34m\u001b[0m\u001b[0;34m\u001b[0m\u001b[0m\n\u001b[0m",
            "\u001b[0;32m/usr/local/lib/python3.12/dist-packages/dataretrieval/nwis.py\u001b[0m in \u001b[0;36mget_info\u001b[0;34m(ssl_check, **kwargs)\u001b[0m\n\u001b[1;32m    814\u001b[0m         \u001b[0mkwargs\u001b[0m\u001b[0;34m[\u001b[0m\u001b[0;34m\"siteOutput\"\u001b[0m\u001b[0;34m]\u001b[0m \u001b[0;34m=\u001b[0m \u001b[0;34m\"Expanded\"\u001b[0m\u001b[0;34m\u001b[0m\u001b[0;34m\u001b[0m\u001b[0m\n\u001b[1;32m    815\u001b[0m \u001b[0;34m\u001b[0m\u001b[0m\n\u001b[0;32m--> 816\u001b[0;31m     \u001b[0mresponse\u001b[0m \u001b[0;34m=\u001b[0m \u001b[0mquery_waterservices\u001b[0m\u001b[0;34m(\u001b[0m\u001b[0;34m\"site\"\u001b[0m\u001b[0;34m,\u001b[0m \u001b[0mssl_check\u001b[0m\u001b[0;34m=\u001b[0m\u001b[0mssl_check\u001b[0m\u001b[0;34m,\u001b[0m \u001b[0;34m**\u001b[0m\u001b[0mkwargs\u001b[0m\u001b[0;34m)\u001b[0m\u001b[0;34m\u001b[0m\u001b[0;34m\u001b[0m\u001b[0m\n\u001b[0m\u001b[1;32m    817\u001b[0m \u001b[0;34m\u001b[0m\u001b[0m\n\u001b[1;32m    818\u001b[0m     \u001b[0;32mreturn\u001b[0m \u001b[0m_read_rdb\u001b[0m\u001b[0;34m(\u001b[0m\u001b[0mresponse\u001b[0m\u001b[0;34m.\u001b[0m\u001b[0mtext\u001b[0m\u001b[0;34m)\u001b[0m\u001b[0;34m,\u001b[0m \u001b[0mNWIS_Metadata\u001b[0m\u001b[0;34m(\u001b[0m\u001b[0mresponse\u001b[0m\u001b[0;34m,\u001b[0m \u001b[0;34m**\u001b[0m\u001b[0mkwargs\u001b[0m\u001b[0;34m)\u001b[0m\u001b[0;34m\u001b[0m\u001b[0;34m\u001b[0m\u001b[0m\n",
            "\u001b[0;32m/usr/local/lib/python3.12/dist-packages/dataretrieval/nwis.py\u001b[0m in \u001b[0;36mquery_waterservices\u001b[0;34m(service, ssl_check, **kwargs)\u001b[0m\n\u001b[1;32m    619\u001b[0m         \u001b[0mkey\u001b[0m \u001b[0;32min\u001b[0m \u001b[0mkwargs\u001b[0m \u001b[0;32mfor\u001b[0m \u001b[0mkey\u001b[0m \u001b[0;32min\u001b[0m \u001b[0;34m[\u001b[0m\u001b[0;34m\"sites\"\u001b[0m\u001b[0;34m,\u001b[0m \u001b[0;34m\"stateCd\"\u001b[0m\u001b[0;34m,\u001b[0m \u001b[0;34m\"bBox\"\u001b[0m\u001b[0;34m,\u001b[0m \u001b[0;34m\"huc\"\u001b[0m\u001b[0;34m,\u001b[0m \u001b[0;34m\"countyCd\"\u001b[0m\u001b[0;34m]\u001b[0m\u001b[0;34m\u001b[0m\u001b[0;34m\u001b[0m\u001b[0m\n\u001b[1;32m    620\u001b[0m     ):\n\u001b[0;32m--> 621\u001b[0;31m         raise TypeError(\n\u001b[0m\u001b[1;32m    622\u001b[0m             \u001b[0;34m\"Query must specify a major filter: sites, stateCd, bBox, huc, or countyCd\"\u001b[0m\u001b[0;34m\u001b[0m\u001b[0;34m\u001b[0m\u001b[0m\n\u001b[1;32m    623\u001b[0m         )\n",
            "\u001b[0;31mTypeError\u001b[0m: Query must specify a major filter: sites, stateCd, bBox, huc, or countyCd"
          ]
        }
      ]
    },
    {
      "cell_type": "code",
      "source": [
        "start = '2018-01-01'\n",
        "end = '2024-12-31'\n",
        "ne_gages = nwis.what_sites(stateCd='NE', siteType='ST', startDt=start, endDt=end, parameterCd='00060')\n",
        "wy_gages = nwis.what_sites(stateCd='WY', siteType='ST', startDt=start, endDt=end, parameterCd='00060')\n",
        "co_gages = nwis.what_sites(stateCd='CO', siteType='ST', startDt=start, endDt=end, parameterCd='00060')"
      ],
      "metadata": {
        "id": "iItgpuyosRdm"
      },
      "execution_count": 5,
      "outputs": []
    },
    {
      "cell_type": "code",
      "source": [
        "all_gages = pd.concat([ne_gages[0], wy_gages[0], co_gages[0]])\n",
        "all_gages = gpd.GeoDataFrame(all_gages, geometry=all_gages.geometry)\n"
      ],
      "metadata": {
        "id": "avPWPA77vO-f"
      },
      "execution_count": 6,
      "outputs": []
    },
    {
      "cell_type": "code",
      "source": [
        "vector_centerlines = gpd.read_file('/content/drive/MyDrive/river_tinder_assets/centerlines/s2_platte_centerlines_4326.shp')\n"
      ],
      "metadata": {
        "id": "7exfAeDVvZKj"
      },
      "execution_count": 7,
      "outputs": []
    },
    {
      "cell_type": "code",
      "source": [
        "utm13 = box(-108, 0, -102, 90)\n",
        "utm14 = box(-102, 0, -96, 90)\n",
        "utm15 = box(-96, 0, -90, 90)"
      ],
      "metadata": {
        "id": "fDhL5wM6xdXY"
      },
      "execution_count": 8,
      "outputs": []
    },
    {
      "cell_type": "code",
      "source": [
        "vcl_13 = vector_centerlines.clip(utm13).to_crs(32613)\n",
        "vcl_14 = vector_centerlines.clip(utm14).to_crs(32614)\n",
        "vcl_15 = vector_centerlines.clip(utm15).to_crs(32615)"
      ],
      "metadata": {
        "id": "qEqlaFd-x2Qs"
      },
      "execution_count": 9,
      "outputs": []
    },
    {
      "cell_type": "code",
      "source": [
        "buffer_13 = vcl_13\\\n",
        "    .set_geometry(vcl_13.buffer(100))\\\n",
        "    .dissolve()\\\n",
        "    .to_crs(4269)\n",
        "\n",
        "buffer_14 = vcl_14.set_geometry(vcl_14.buffer(100))\\\n",
        "    .dissolve()\\\n",
        "    .to_crs(4269)\n",
        "\n",
        "buffer_15 = vcl_15.set_geometry(vcl_15.buffer(100))\\\n",
        "    .dissolve()\\\n",
        "    .to_crs(4269)"
      ],
      "metadata": {
        "id": "8UkkC51byUdy"
      },
      "execution_count": 10,
      "outputs": []
    },
    {
      "cell_type": "code",
      "source": [
        "large_buffer = pd.concat([buffer_13, buffer_14, buffer_15]).dissolve()"
      ],
      "metadata": {
        "id": "exWrbxLTypeU"
      },
      "execution_count": 11,
      "outputs": []
    },
    {
      "cell_type": "code",
      "source": [
        "filtered_gages = all_gages.clip(large_buffer)"
      ],
      "metadata": {
        "id": "fuBkUPSr0h-g"
      },
      "execution_count": 12,
      "outputs": []
    },
    {
      "cell_type": "code",
      "source": [
        "fig, ax = plt.subplots()\n",
        "all_gages.plot(ax=ax)\n",
        "filtered_gages.plot(ax=ax, color='orange')\n"
      ],
      "metadata": {
        "colab": {
          "base_uri": "https://localhost:8080/",
          "height": 414
        },
        "id": "whFsm-Sqz7wX",
        "outputId": "f988233a-1dab-4853-8886-8c935ede7190"
      },
      "execution_count": 13,
      "outputs": [
        {
          "output_type": "execute_result",
          "data": {
            "text/plain": [
              "<Axes: >"
            ]
          },
          "metadata": {},
          "execution_count": 13
        },
        {
          "output_type": "display_data",
          "data": {
            "text/plain": [
              "<Figure size 640x480 with 1 Axes>"
            ],
            "image/png": "[encoded data removed]"
          },
          "metadata": {}
        }
      ]
    },
    {
      "cell_type": "code",
      "source": [
        "gee_points = gpd.read_file('/content/drive/MyDrive/platte_points.shp')\n",
        "gee_points_13 = gee_points.clip(utm13)\\\n",
        "    .to_crs(32613)\n",
        "\n",
        "gee_points_14 = gee_points.clip(utm14)\\\n",
        "    .to_crs(32614)\n",
        "\n",
        "gee_points_15 = gee_points.clip(utm15)\\\n",
        "    .to_crs(32615)\n"
      ],
      "metadata": {
        "id": "9rP-mLA71Umr"
      },
      "execution_count": 14,
      "outputs": []
    },
    {
      "cell_type": "code",
      "source": [
        "filtered_gages_13 = filtered_gages.clip(utm13)\\\n",
        "    .to_crs(32613)\n",
        "\n",
        "filtered_gages_14 = filtered_gages.clip(utm14)\\\n",
        "    .to_crs(32614)\n",
        "\n",
        "filtered_gages_15 = filtered_gages.clip(utm15)\\\n",
        "    .to_crs(32615)"
      ],
      "metadata": {
        "id": "o_Z2K9br3FY7"
      },
      "execution_count": 15,
      "outputs": []
    },
    {
      "cell_type": "code",
      "source": [
        "nearest_pts_13 = gpd.sjoin_nearest(filtered_gages_13, gee_points_13)\\\n",
        "    .to_crs(4326)\n",
        "nearest_pts_14 = gpd.sjoin_nearest(filtered_gages_14, gee_points_14)\\\n",
        "    .to_crs(4326)\n",
        "nearest_pts_15 = gpd.sjoin_nearest(filtered_gages_15, gee_points_15)\\\n",
        "    .to_crs(4326)\n",
        "\n",
        "nearest_pts = pd.concat([nearest_pts_15, nearest_pts_14, nearest_pts_13])"
      ],
      "metadata": {
        "id": "vsc-xCrx2_IR"
      },
      "execution_count": 16,
      "outputs": []
    },
    {
      "cell_type": "code",
      "source": [
        "len(nearest_pts)"
      ],
      "metadata": {
        "id": "NyHGpAepMZRf",
        "outputId": "e46285ea-ca15-4643-d22b-d71a38c62c2b",
        "colab": {
          "base_uri": "https://localhost:8080/"
        }
      },
      "execution_count": 17,
      "outputs": [
        {
          "output_type": "execute_result",
          "data": {
            "text/plain": [
              "34"
            ]
          },
          "metadata": {},
          "execution_count": 17
        }
      ]
    },
    {
      "cell_type": "code",
      "source": [
        "nearest_pts.to_csv('/content/drive/MyDrive/effwidth_results/gage_sites/val_gages_3.csv')"
      ],
      "metadata": {
        "id": "Kvg_VfeS3Jb0"
      },
      "execution_count": 18,
      "outputs": []
    }
  ]
}