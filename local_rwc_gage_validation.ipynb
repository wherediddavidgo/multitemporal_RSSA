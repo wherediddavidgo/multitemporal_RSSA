{
  "cells": [
    {
      "cell_type": "code",
      "execution_count": 1,
      "metadata": {
        "id": "qlbJ0iGzg6XB"
      },
      "outputs": [],
      "source": [
        "# !pip install netCDF4\n",
        "import xarray as xr\n",
        "import netCDF4\n",
        "import numpy as np\n",
        "import pandas as pd\n",
        "import geopandas as gpd\n",
        "# from google.colab import drive\n",
        "from matplotlib import pyplot as plt\n",
        "import datetime\n",
        "import glob\n",
        "from dataretrieval import nwis as nwis\n",
        "\n"
      ]
    },
    {
      "cell_type": "code",
      "execution_count": 5,
      "metadata": {
        "id": "3YTtpIZOhoi0"
      },
      "outputs": [],
      "source": [
        "cb_centerlines = gpd.read_file('C:/Users/dego/Documents/local_files/RSSA/Platte_centerlines_masks/vector_centerlines/s2_platte_centerlines.shp').to_crs(3857)\n",
        "merit_centerlines = gpd.read_file('C:/Users/dego/Documents/local_files/RSSA/MERIT/riv_pfaf_7_MERIT_Hydro_v07_Basins_v01_bugfix1.shp').to_crs(3857)"
      ]
    },
    {
      "cell_type": "code",
      "execution_count": 2,
      "metadata": {
        "id": "fRzHkkgxhu0_"
      },
      "outputs": [],
      "source": [
        "Qarray = xr.open_dataset('C:/Users/dego/Documents/local_files/RSSA/grades_Q/GRADES-hydroDL_V2.0_pfaf_07_2024.nc', engine='netcdf4')"
      ]
    },
    {
      "cell_type": "code",
      "execution_count": 3,
      "metadata": {
        "id": "eZT3VgoNleXo"
      },
      "outputs": [],
      "source": [
        "rwc_dfs = []\n",
        "\n",
        "files = glob.glob('C:/Users/dego/Documents/local_files/RSSA/all_rwc_exports/*.csv')\n",
        "\n",
        "for f in files:\n",
        "    rwc_dfs.append(pd.read_csv(f))\n",
        "\n",
        "rwc_df = pd.concat(rwc_dfs)"
      ]
    },
    {
      "cell_type": "code",
      "execution_count": 4,
      "metadata": {
        "id": "iL9jZqQevyGY"
      },
      "outputs": [],
      "source": [
        "rwc_gdf = gpd.GeoDataFrame(rwc_df, geometry=gpd.points_from_xy(rwc_df.x, rwc_df.y, crs=4326))\n",
        "rwc_gdf.scene_date = pd.to_datetime(rwc_gdf.scene_date, format='ISO8601')"
      ]
    },
    {
      "cell_type": "code",
      "execution_count": null,
      "metadata": {
        "id": "hIg3oemBwn3b"
      },
      "outputs": [],
      "source": [
        "TDF = rwc_gdf.loc[rwc_gdf.scene_date <= datetime.datetime(2018, 12, 31)]"
      ]
    },
    {
      "cell_type": "code",
      "execution_count": null,
      "metadata": {
        "id": "Yx5ptTCHxpRx"
      },
      "outputs": [],
      "source": [
        "mwidths = TDF.groupby('geometry')['width'].agg('mean').reset_index()"
      ]
    },
    {
      "cell_type": "code",
      "execution_count": null,
      "metadata": {
        "id": "VAGeBtEkzC4b"
      },
      "outputs": [],
      "source": [
        "mwidths = mwidths.loc[mwidths.width > 0]"
      ]
    },
    {
      "cell_type": "code",
      "execution_count": null,
      "metadata": {
        "id": "vmM9f9TDyoT4"
      },
      "outputs": [],
      "source": [
        "mwidths['logw'] = np.log(mwidths.width)"
      ]
    },
    {
      "cell_type": "code",
      "execution_count": null,
      "metadata": {
        "id": "Bq9HfEzYyP9u"
      },
      "outputs": [],
      "source": [
        "mwidths = gpd.GeoDataFrame(mwidths, geometry='geometry')\n",
        "mwidths.plot(column='logw')"
      ]
    },
    {
      "cell_type": "code",
      "execution_count": 6,
      "metadata": {
        "id": "y-lLxT5azNkG"
      },
      "outputs": [],
      "source": [
        "gage_list = ['06764880', '06775900', '06775500', '06770200', '06767970', '06768000',\n",
        "             '06784000', '06781900', '06785000', '06790500', '06800500', '06793000',\n",
        "             '06800000', '06777495', '06786000', '06799350', '06799315', '06799000',\n",
        "             '06797500', '06785500', '06710247', '06711565', '06714215', '06721000',\n",
        "             '06759500', '06620000', '06680500', '06630000', '06674500', '06635000',\n",
        "             '06670500', '06657000', '06652000']\n",
        "\n",
        "\n"
      ]
    },
    {
      "cell_type": "code",
      "execution_count": 7,
      "metadata": {
        "colab": {
          "base_uri": "https://localhost:8080/",
          "height": 1000
        },
        "id": "6accNTRXL_JA",
        "outputId": "428633e1-0ac9-49ee-bc8e-4d635acee35a"
      },
      "outputs": [
        {
          "data": {
            "text/html": [
              "<div>\n",
              "<style scoped>\n",
              "    .dataframe tbody tr th:only-of-type {\n",
              "        vertical-align: middle;\n",
              "    }\n",
              "\n",
              "    .dataframe tbody tr th {\n",
              "        vertical-align: top;\n",
              "    }\n",
              "\n",
              "    .dataframe thead th {\n",
              "        text-align: right;\n",
              "    }\n",
              "</style>\n",
              "<table border=\"1\" class=\"dataframe\">\n",
              "  <thead>\n",
              "    <tr style=\"text-align: right;\">\n",
              "      <th></th>\n",
              "      <th>site_no</th>\n",
              "      <th>geometry</th>\n",
              "    </tr>\n",
              "  </thead>\n",
              "  <tbody>\n",
              "    <tr>\n",
              "      <th>0</th>\n",
              "      <td>06620000</td>\n",
              "      <td>POINT (-106.33919 40.93664)</td>\n",
              "    </tr>\n",
              "    <tr>\n",
              "      <th>1</th>\n",
              "      <td>06630000</td>\n",
              "      <td>POINT (-107.0576 41.87217)</td>\n",
              "    </tr>\n",
              "    <tr>\n",
              "      <th>2</th>\n",
              "      <td>06635000</td>\n",
              "      <td>POINT (-106.51314 42.00967)</td>\n",
              "    </tr>\n",
              "    <tr>\n",
              "      <th>3</th>\n",
              "      <td>06652000</td>\n",
              "      <td>POINT (-105.15921 42.65248)</td>\n",
              "    </tr>\n",
              "    <tr>\n",
              "      <th>4</th>\n",
              "      <td>06657000</td>\n",
              "      <td>POINT (-104.62802 42.24101)</td>\n",
              "    </tr>\n",
              "    <tr>\n",
              "      <th>5</th>\n",
              "      <td>06670500</td>\n",
              "      <td>POINT (-104.53835 42.20051)</td>\n",
              "    </tr>\n",
              "    <tr>\n",
              "      <th>6</th>\n",
              "      <td>06674500</td>\n",
              "      <td>POINT (-104.05334 41.98857)</td>\n",
              "    </tr>\n",
              "    <tr>\n",
              "      <th>7</th>\n",
              "      <td>06680500</td>\n",
              "      <td>POINT (-103.67556 41.84994)</td>\n",
              "    </tr>\n",
              "    <tr>\n",
              "      <th>8</th>\n",
              "      <td>06710247</td>\n",
              "      <td>POINT (-105.01498 39.63249)</td>\n",
              "    </tr>\n",
              "    <tr>\n",
              "      <th>9</th>\n",
              "      <td>06711565</td>\n",
              "      <td>POINT (-105.00415 39.66499)</td>\n",
              "    </tr>\n",
              "    <tr>\n",
              "      <th>10</th>\n",
              "      <td>06714215</td>\n",
              "      <td>POINT (-104.95831 39.81221)</td>\n",
              "    </tr>\n",
              "    <tr>\n",
              "      <th>11</th>\n",
              "      <td>06721000</td>\n",
              "      <td>POINT (-104.81858 40.11609)</td>\n",
              "    </tr>\n",
              "    <tr>\n",
              "      <th>12</th>\n",
              "      <td>06759500</td>\n",
              "      <td>POINT (-103.80119 40.2684)</td>\n",
              "    </tr>\n",
              "    <tr>\n",
              "      <th>13</th>\n",
              "      <td>06764880</td>\n",
              "      <td>POINT (-101.57667 41.12611)</td>\n",
              "    </tr>\n",
              "    <tr>\n",
              "      <th>14</th>\n",
              "      <td>06767970</td>\n",
              "      <td>POINT (-99.56796 40.67684)</td>\n",
              "    </tr>\n",
              "    <tr>\n",
              "      <th>15</th>\n",
              "      <td>06768000</td>\n",
              "      <td>POINT (-99.54056 40.6825)</td>\n",
              "    </tr>\n",
              "    <tr>\n",
              "      <th>16</th>\n",
              "      <td>06770200</td>\n",
              "      <td>POINT (-99.08611 40.65806)</td>\n",
              "    </tr>\n",
              "    <tr>\n",
              "      <th>17</th>\n",
              "      <td>06775500</td>\n",
              "      <td>POINT (-100.09953 41.83092)</td>\n",
              "    </tr>\n",
              "    <tr>\n",
              "      <th>18</th>\n",
              "      <td>06775900</td>\n",
              "      <td>POINT (-100.52528 41.77861)</td>\n",
              "    </tr>\n",
              "    <tr>\n",
              "      <th>19</th>\n",
              "      <td>06777495</td>\n",
              "      <td>POINT (-99.6356 41.66299)</td>\n",
              "    </tr>\n",
              "    <tr>\n",
              "      <th>20</th>\n",
              "      <td>06781900</td>\n",
              "      <td>POINT (-99.70861 41.19278)</td>\n",
              "    </tr>\n",
              "    <tr>\n",
              "      <th>21</th>\n",
              "      <td>06784000</td>\n",
              "      <td>POINT (-98.74056 41.0325)</td>\n",
              "    </tr>\n",
              "    <tr>\n",
              "      <th>22</th>\n",
              "      <td>06785000</td>\n",
              "      <td>POINT (-98.44611 41.2035)</td>\n",
              "    </tr>\n",
              "    <tr>\n",
              "      <th>23</th>\n",
              "      <td>06785500</td>\n",
              "      <td>POINT (-99.86028 41.94167)</td>\n",
              "    </tr>\n",
              "    <tr>\n",
              "      <th>24</th>\n",
              "      <td>06786000</td>\n",
              "      <td>POINT (-99.37917 41.77694)</td>\n",
              "    </tr>\n",
              "    <tr>\n",
              "      <th>25</th>\n",
              "      <td>06790500</td>\n",
              "      <td>POINT (-98.44924 41.26335)</td>\n",
              "    </tr>\n",
              "    <tr>\n",
              "      <th>26</th>\n",
              "      <td>06793000</td>\n",
              "      <td>POINT (-97.72361 41.41861)</td>\n",
              "    </tr>\n",
              "    <tr>\n",
              "      <th>27</th>\n",
              "      <td>06797500</td>\n",
              "      <td>POINT (-98.33936 42.26844)</td>\n",
              "    </tr>\n",
              "    <tr>\n",
              "      <th>28</th>\n",
              "      <td>06799000</td>\n",
              "      <td>POINT (-97.42603 42.00378)</td>\n",
              "    </tr>\n",
              "    <tr>\n",
              "      <th>29</th>\n",
              "      <td>06799315</td>\n",
              "      <td>POINT (-97.05806 41.99528)</td>\n",
              "    </tr>\n",
              "    <tr>\n",
              "      <th>30</th>\n",
              "      <td>06799350</td>\n",
              "      <td>POINT (-96.72753 41.83944)</td>\n",
              "    </tr>\n",
              "    <tr>\n",
              "      <th>31</th>\n",
              "      <td>06800000</td>\n",
              "      <td>POINT (-96.54083 41.56117)</td>\n",
              "    </tr>\n",
              "    <tr>\n",
              "      <th>32</th>\n",
              "      <td>06800500</td>\n",
              "      <td>POINT (-96.28389 41.29333)</td>\n",
              "    </tr>\n",
              "  </tbody>\n",
              "</table>\n",
              "</div>"
            ],
            "text/plain": [
              "     site_no                     geometry\n",
              "0   06620000  POINT (-106.33919 40.93664)\n",
              "1   06630000   POINT (-107.0576 41.87217)\n",
              "2   06635000  POINT (-106.51314 42.00967)\n",
              "3   06652000  POINT (-105.15921 42.65248)\n",
              "4   06657000  POINT (-104.62802 42.24101)\n",
              "5   06670500  POINT (-104.53835 42.20051)\n",
              "6   06674500  POINT (-104.05334 41.98857)\n",
              "7   06680500  POINT (-103.67556 41.84994)\n",
              "8   06710247  POINT (-105.01498 39.63249)\n",
              "9   06711565  POINT (-105.00415 39.66499)\n",
              "10  06714215  POINT (-104.95831 39.81221)\n",
              "11  06721000  POINT (-104.81858 40.11609)\n",
              "12  06759500   POINT (-103.80119 40.2684)\n",
              "13  06764880  POINT (-101.57667 41.12611)\n",
              "14  06767970   POINT (-99.56796 40.67684)\n",
              "15  06768000    POINT (-99.54056 40.6825)\n",
              "16  06770200   POINT (-99.08611 40.65806)\n",
              "17  06775500  POINT (-100.09953 41.83092)\n",
              "18  06775900  POINT (-100.52528 41.77861)\n",
              "19  06777495    POINT (-99.6356 41.66299)\n",
              "20  06781900   POINT (-99.70861 41.19278)\n",
              "21  06784000    POINT (-98.74056 41.0325)\n",
              "22  06785000    POINT (-98.44611 41.2035)\n",
              "23  06785500   POINT (-99.86028 41.94167)\n",
              "24  06786000   POINT (-99.37917 41.77694)\n",
              "25  06790500   POINT (-98.44924 41.26335)\n",
              "26  06793000   POINT (-97.72361 41.41861)\n",
              "27  06797500   POINT (-98.33936 42.26844)\n",
              "28  06799000   POINT (-97.42603 42.00378)\n",
              "29  06799315   POINT (-97.05806 41.99528)\n",
              "30  06799350   POINT (-96.72753 41.83944)\n",
              "31  06800000   POINT (-96.54083 41.56117)\n",
              "32  06800500   POINT (-96.28389 41.29333)"
            ]
          },
          "execution_count": 7,
          "metadata": {},
          "output_type": "execute_result"
        }
      ],
      "source": [
        "gages = nwis.get_info(sites=gage_list)[0][['site_no', 'geometry']]\n",
        "gages"
      ]
    },
    {
      "cell_type": "code",
      "execution_count": 8,
      "metadata": {
        "colab": {
          "base_uri": "https://localhost:8080/",
          "height": 1000
        },
        "id": "ITivz2R0NKG7",
        "outputId": "32a19ef4-dda3-412e-d28a-af18a399bf02"
      },
      "outputs": [
        {
          "data": {
            "text/html": [
              "<div>\n",
              "<style scoped>\n",
              "    .dataframe tbody tr th:only-of-type {\n",
              "        vertical-align: middle;\n",
              "    }\n",
              "\n",
              "    .dataframe tbody tr th {\n",
              "        vertical-align: top;\n",
              "    }\n",
              "\n",
              "    .dataframe thead th {\n",
              "        text-align: right;\n",
              "    }\n",
              "</style>\n",
              "<table border=\"1\" class=\"dataframe\">\n",
              "  <thead>\n",
              "    <tr style=\"text-align: right;\">\n",
              "      <th></th>\n",
              "      <th>site_no</th>\n",
              "      <th>geometry</th>\n",
              "    </tr>\n",
              "  </thead>\n",
              "  <tbody>\n",
              "    <tr>\n",
              "      <th>0</th>\n",
              "      <td>06620000</td>\n",
              "      <td>POLYGON ((893.661 40.937, 888.846 -57.081, 874...</td>\n",
              "    </tr>\n",
              "    <tr>\n",
              "      <th>1</th>\n",
              "      <td>06630000</td>\n",
              "      <td>POLYGON ((892.942 41.872, 888.127 -56.145, 873...</td>\n",
              "    </tr>\n",
              "    <tr>\n",
              "      <th>2</th>\n",
              "      <td>06635000</td>\n",
              "      <td>POLYGON ((893.487 42.01, 888.672 -56.007, 874....</td>\n",
              "    </tr>\n",
              "    <tr>\n",
              "      <th>3</th>\n",
              "      <td>06652000</td>\n",
              "      <td>POLYGON ((894.841 42.652, 890.026 -55.365, 875...</td>\n",
              "    </tr>\n",
              "    <tr>\n",
              "      <th>4</th>\n",
              "      <td>06657000</td>\n",
              "      <td>POLYGON ((895.372 42.241, 890.557 -55.776, 876...</td>\n",
              "    </tr>\n",
              "    <tr>\n",
              "      <th>5</th>\n",
              "      <td>06670500</td>\n",
              "      <td>POLYGON ((895.462 42.201, 890.646 -55.817, 876...</td>\n",
              "    </tr>\n",
              "    <tr>\n",
              "      <th>6</th>\n",
              "      <td>06674500</td>\n",
              "      <td>POLYGON ((895.947 41.989, 891.131 -56.029, 876...</td>\n",
              "    </tr>\n",
              "    <tr>\n",
              "      <th>7</th>\n",
              "      <td>06680500</td>\n",
              "      <td>POLYGON ((896.324 41.85, 891.509 -56.167, 877....</td>\n",
              "    </tr>\n",
              "    <tr>\n",
              "      <th>8</th>\n",
              "      <td>06710247</td>\n",
              "      <td>POLYGON ((894.985 39.632, 890.17 -58.385, 875....</td>\n",
              "    </tr>\n",
              "    <tr>\n",
              "      <th>9</th>\n",
              "      <td>06711565</td>\n",
              "      <td>POLYGON ((894.996 39.665, 890.181 -58.352, 875...</td>\n",
              "    </tr>\n",
              "    <tr>\n",
              "      <th>10</th>\n",
              "      <td>06714215</td>\n",
              "      <td>POLYGON ((895.042 39.812, 890.226 -58.205, 875...</td>\n",
              "    </tr>\n",
              "    <tr>\n",
              "      <th>11</th>\n",
              "      <td>06721000</td>\n",
              "      <td>POLYGON ((895.181 40.116, 890.366 -57.901, 875...</td>\n",
              "    </tr>\n",
              "    <tr>\n",
              "      <th>12</th>\n",
              "      <td>06759500</td>\n",
              "      <td>POLYGON ((896.199 40.268, 891.384 -57.749, 876...</td>\n",
              "    </tr>\n",
              "    <tr>\n",
              "      <th>13</th>\n",
              "      <td>06764880</td>\n",
              "      <td>POLYGON ((898.423 41.126, 893.608 -56.891, 879...</td>\n",
              "    </tr>\n",
              "    <tr>\n",
              "      <th>14</th>\n",
              "      <td>06767970</td>\n",
              "      <td>POLYGON ((900.432 40.677, 895.617 -57.34, 881....</td>\n",
              "    </tr>\n",
              "    <tr>\n",
              "      <th>15</th>\n",
              "      <td>06768000</td>\n",
              "      <td>POLYGON ((900.459 40.682, 895.644 -57.335, 881...</td>\n",
              "    </tr>\n",
              "    <tr>\n",
              "      <th>16</th>\n",
              "      <td>06770200</td>\n",
              "      <td>POLYGON ((900.914 40.658, 896.099 -57.359, 881...</td>\n",
              "    </tr>\n",
              "    <tr>\n",
              "      <th>17</th>\n",
              "      <td>06775500</td>\n",
              "      <td>POLYGON ((899.9 41.831, 895.085 -56.186, 880.6...</td>\n",
              "    </tr>\n",
              "    <tr>\n",
              "      <th>18</th>\n",
              "      <td>06775900</td>\n",
              "      <td>POLYGON ((899.475 41.779, 894.659 -56.239, 880...</td>\n",
              "    </tr>\n",
              "    <tr>\n",
              "      <th>19</th>\n",
              "      <td>06777495</td>\n",
              "      <td>POLYGON ((900.364 41.663, 895.549 -56.354, 881...</td>\n",
              "    </tr>\n",
              "    <tr>\n",
              "      <th>20</th>\n",
              "      <td>06781900</td>\n",
              "      <td>POLYGON ((900.291 41.193, 895.476 -56.824, 881...</td>\n",
              "    </tr>\n",
              "    <tr>\n",
              "      <th>21</th>\n",
              "      <td>06784000</td>\n",
              "      <td>POLYGON ((901.259 41.032, 896.444 -56.985, 882...</td>\n",
              "    </tr>\n",
              "    <tr>\n",
              "      <th>22</th>\n",
              "      <td>06785000</td>\n",
              "      <td>POLYGON ((901.554 41.204, 896.739 -56.814, 882...</td>\n",
              "    </tr>\n",
              "    <tr>\n",
              "      <th>23</th>\n",
              "      <td>06785500</td>\n",
              "      <td>POLYGON ((900.14 41.942, 895.324 -56.075, 880....</td>\n",
              "    </tr>\n",
              "    <tr>\n",
              "      <th>24</th>\n",
              "      <td>06786000</td>\n",
              "      <td>POLYGON ((900.621 41.777, 895.806 -56.24, 881....</td>\n",
              "    </tr>\n",
              "    <tr>\n",
              "      <th>25</th>\n",
              "      <td>06790500</td>\n",
              "      <td>POLYGON ((901.551 41.263, 896.735 -56.754, 882...</td>\n",
              "    </tr>\n",
              "    <tr>\n",
              "      <th>26</th>\n",
              "      <td>06793000</td>\n",
              "      <td>POLYGON ((902.276 41.419, 897.461 -56.599, 883...</td>\n",
              "    </tr>\n",
              "    <tr>\n",
              "      <th>27</th>\n",
              "      <td>06797500</td>\n",
              "      <td>POLYGON ((901.661 42.268, 896.845 -55.749, 882...</td>\n",
              "    </tr>\n",
              "    <tr>\n",
              "      <th>28</th>\n",
              "      <td>06799000</td>\n",
              "      <td>POLYGON ((902.574 42.004, 897.759 -56.013, 883...</td>\n",
              "    </tr>\n",
              "    <tr>\n",
              "      <th>29</th>\n",
              "      <td>06799315</td>\n",
              "      <td>POLYGON ((902.942 41.995, 898.127 -56.022, 883...</td>\n",
              "    </tr>\n",
              "    <tr>\n",
              "      <th>30</th>\n",
              "      <td>06799350</td>\n",
              "      <td>POLYGON ((903.272 41.839, 898.457 -56.178, 884...</td>\n",
              "    </tr>\n",
              "    <tr>\n",
              "      <th>31</th>\n",
              "      <td>06800000</td>\n",
              "      <td>POLYGON ((903.459 41.561, 898.644 -56.456, 884...</td>\n",
              "    </tr>\n",
              "    <tr>\n",
              "      <th>32</th>\n",
              "      <td>06800500</td>\n",
              "      <td>POLYGON ((903.716 41.293, 898.901 -56.724, 884...</td>\n",
              "    </tr>\n",
              "  </tbody>\n",
              "</table>\n",
              "</div>"
            ],
            "text/plain": [
              "     site_no                                           geometry\n",
              "0   06620000  POLYGON ((893.661 40.937, 888.846 -57.081, 874...\n",
              "1   06630000  POLYGON ((892.942 41.872, 888.127 -56.145, 873...\n",
              "2   06635000  POLYGON ((893.487 42.01, 888.672 -56.007, 874....\n",
              "3   06652000  POLYGON ((894.841 42.652, 890.026 -55.365, 875...\n",
              "4   06657000  POLYGON ((895.372 42.241, 890.557 -55.776, 876...\n",
              "5   06670500  POLYGON ((895.462 42.201, 890.646 -55.817, 876...\n",
              "6   06674500  POLYGON ((895.947 41.989, 891.131 -56.029, 876...\n",
              "7   06680500  POLYGON ((896.324 41.85, 891.509 -56.167, 877....\n",
              "8   06710247  POLYGON ((894.985 39.632, 890.17 -58.385, 875....\n",
              "9   06711565  POLYGON ((894.996 39.665, 890.181 -58.352, 875...\n",
              "10  06714215  POLYGON ((895.042 39.812, 890.226 -58.205, 875...\n",
              "11  06721000  POLYGON ((895.181 40.116, 890.366 -57.901, 875...\n",
              "12  06759500  POLYGON ((896.199 40.268, 891.384 -57.749, 876...\n",
              "13  06764880  POLYGON ((898.423 41.126, 893.608 -56.891, 879...\n",
              "14  06767970  POLYGON ((900.432 40.677, 895.617 -57.34, 881....\n",
              "15  06768000  POLYGON ((900.459 40.682, 895.644 -57.335, 881...\n",
              "16  06770200  POLYGON ((900.914 40.658, 896.099 -57.359, 881...\n",
              "17  06775500  POLYGON ((899.9 41.831, 895.085 -56.186, 880.6...\n",
              "18  06775900  POLYGON ((899.475 41.779, 894.659 -56.239, 880...\n",
              "19  06777495  POLYGON ((900.364 41.663, 895.549 -56.354, 881...\n",
              "20  06781900  POLYGON ((900.291 41.193, 895.476 -56.824, 881...\n",
              "21  06784000  POLYGON ((901.259 41.032, 896.444 -56.985, 882...\n",
              "22  06785000  POLYGON ((901.554 41.204, 896.739 -56.814, 882...\n",
              "23  06785500  POLYGON ((900.14 41.942, 895.324 -56.075, 880....\n",
              "24  06786000  POLYGON ((900.621 41.777, 895.806 -56.24, 881....\n",
              "25  06790500  POLYGON ((901.551 41.263, 896.735 -56.754, 882...\n",
              "26  06793000  POLYGON ((902.276 41.419, 897.461 -56.599, 883...\n",
              "27  06797500  POLYGON ((901.661 42.268, 896.845 -55.749, 882...\n",
              "28  06799000  POLYGON ((902.574 42.004, 897.759 -56.013, 883...\n",
              "29  06799315  POLYGON ((902.942 41.995, 898.127 -56.022, 883...\n",
              "30  06799350  POLYGON ((903.272 41.839, 898.457 -56.178, 884...\n",
              "31  06800000  POLYGON ((903.459 41.561, 898.644 -56.456, 884...\n",
              "32  06800500  POLYGON ((903.716 41.293, 898.901 -56.724, 884..."
            ]
          },
          "execution_count": 8,
          "metadata": {},
          "output_type": "execute_result"
        }
      ],
      "source": [
        "gage_buffers = gages.to_crs(3857)\n",
        "# gages = gages.rename({'geometry': 'point'})\n",
        "buffgeoms = gages.apply(lambda x: x['geometry'].buffer(1000), axis=1)\n",
        "gage_buffers = gage_buffers.set_geometry(buffgeoms)\n",
        "gage_buffers"
      ]
    },
    {
      "cell_type": "code",
      "execution_count": null,
      "metadata": {
        "id": "9cvJJYSLL1gS"
      },
      "outputs": [],
      "source": [
        "rwc_points = rwc_gdf.geometry.unique()\n",
        "n_geoms = len(rwc_points)\n",
        "gindex = range(n_geoms)\n",
        "geom_gindex = gpd.GeoDataFrame({'geometry': rwc_points, 'gindex': gindex})\n",
        "\n",
        "rwc_gdf = pd.merge(rwc_gdf, geom_gindex, how='left', on='geometry')"
      ]
    },
    {
      "cell_type": "code",
      "execution_count": null,
      "metadata": {
        "colab": {
          "base_uri": "https://localhost:8080/"
        },
        "id": "dsflgKdqShhJ",
        "outputId": "1ec0ed8e-7ba8-4e0c-d74b-551202fc097a"
      },
      "outputs": [],
      "source": [
        "# geom_gindex = geom_gindex.to_crs(3857)\n",
        "gage_rwc_points = geom_gindex.sjoin(gage_buffers, predicate='within').to_crs(4326)\n"
      ]
    },
    {
      "cell_type": "code",
      "execution_count": null,
      "metadata": {
        "id": "dlJJOKh6WUM0"
      },
      "outputs": [],
      "source": [
        "gage_rwc = pd.merge(gage_rwc_points[['gindex', 'site_no']], rwc_gdf, how='left', on='gindex')"
      ]
    },
    {
      "cell_type": "code",
      "execution_count": null,
      "metadata": {
        "id": "IV5fB4sNch4a"
      },
      "outputs": [],
      "source": [
        "gage_rwc.columns"
      ]
    },
    {
      "cell_type": "code",
      "execution_count": null,
      "metadata": {
        "id": "I8OuFjTKb7id"
      },
      "outputs": [],
      "source": [
        "gage_rwc.loc[(gage_rwc.cloud_mask == 0) & gage_rwc.loc[(gage_rwc.snow_mask == 0)]]"
      ]
    },
    {
      "cell_type": "markdown",
      "metadata": {
        "id": "4d-dzY16Ozb_"
      },
      "source": [
        "IFMHA"
      ]
    },
    {
      "cell_type": "code",
      "execution_count": null,
      "metadata": {
        "id": "yIcUXKcBOzBH"
      },
      "outputs": [],
      "source": [
        "gage_nums = [int(site_no) for site_no in gage_list]\n",
        "ifmha = pd.read_csv('/content/drive/MyDrive/IFMHA/IFMHA.csv')\n",
        "\n",
        "ifmha = ifmha.loc[ifmha.site_no.isin(gage_nums)]\n",
        "\n",
        "ifmha.measurement_dt = pd.to_datetime(ifmha.measurement_dt)\n",
        "ifmha = ifmha.loc[(ifmha.measurement_dt >= datetime.datetime(2018, 1, 1)) & (ifmha.measurement_dt <= datetime.datetime(2024, 12, 31))]\n",
        "\n",
        "ifmha['date'] = ifmha.measurement_dt.dt.date\n",
        "ifmha.chan_width = ifmha.chan_width / 3.28\n",
        "ifmha.site_no = ifmha.apply(lambda x: f'0{x.site_no}', axis=1)\n",
        "\n",
        "\n",
        "ifmha = ifmha[['site_no', 'date', 'chan_width']]"
      ]
    },
    {
      "cell_type": "code",
      "execution_count": null,
      "metadata": {
        "id": "hvlNdi64Y2yv"
      },
      "outputs": [],
      "source": [
        "ifmha"
      ]
    },
    {
      "cell_type": "code",
      "execution_count": null,
      "metadata": {
        "id": "2q8xlD2eZIVV"
      },
      "outputs": [],
      "source": [
        "width_dfs = []\n",
        "for gage in (gage_list):\n",
        "    url = f'https://api.waterdata.usgs.gov/samples-data/results/fullphyschem?mimeType=text%2Fcsv&monitoringLocationIdentifier=USGS-{gage}&characteristicGroup=Physical&characteristicUserSupplied=Width%20of%20stream'\n",
        "\n",
        "    tempdf = pd.read_csv(url)\n",
        "\n",
        "    ws = tempdf[['Location_Identifier', 'Activity_StartDate', 'Result_Measure']]\n",
        "    width_dfs.append(tempdf)\n",
        "\n",
        "isw = pd.concat(width_dfs)\n",
        "\n",
        "isw['site_no'] = isw.apply(lambda x: x['Location_Identifier'].split('-')[1], axis=1)\n",
        "isw = isw.rename(columns={'Activity_StartDate': 'date', 'Result_Measure': 'width_ft'})\n",
        "isw['date'] = isw.apply(lambda x: datetime.date(int(x['date'].split('-')[0]), int(x['date'].split('-')[1]), int(x['date'].split('-')[2])), axis=1)\n",
        "isw['chan_width'] = isw.width_ft / 3.28\n",
        "isw = isw[['date', 'chan_width', 'site_no']]\n",
        "isw"
      ]
    },
    {
      "cell_type": "code",
      "execution_count": null,
      "metadata": {
        "id": "pAm-nurabfvw"
      },
      "outputs": [],
      "source": [
        "all_isw = pd.concat([isw, ifmha])"
      ]
    },
    {
      "cell_type": "code",
      "execution_count": null,
      "metadata": {
        "id": "vNAWCbk4bzvj"
      },
      "outputs": [],
      "source": []
    }
  ],
  "metadata": {
    "colab": {
      "provenance": []
    },
    "kernelspec": {
      "display_name": "rssa_venv",
      "language": "python",
      "name": "python3"
    },
    "language_info": {
      "codemirror_mode": {
        "name": "ipython",
        "version": 3
      },
      "file_extension": ".py",
      "mimetype": "text/x-python",
      "name": "python",
      "nbconvert_exporter": "python",
      "pygments_lexer": "ipython3",
      "version": "3.13.7"
    }
  },
  "nbformat": 4,
  "nbformat_minor": 0
}
