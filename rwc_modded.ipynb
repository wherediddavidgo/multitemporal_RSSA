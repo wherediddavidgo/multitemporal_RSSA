{
 "cells": [
  {
   "cell_type": "code",
   "execution_count": 1,
   "metadata": {},
   "outputs": [],
   "source": [
    "import ee\n",
    "from IPython.display import Image\n",
    "import geemap\n",
    "import pandas as pd"
   ]
  },
  {
   "cell_type": "code",
   "execution_count": 2,
   "metadata": {},
   "outputs": [
    {
     "data": {
      "text/html": [
       "\n",
       "            <style>\n",
       "                .geemap-dark {\n",
       "                    --jp-widgets-color: white;\n",
       "                    --jp-widgets-label-color: white;\n",
       "                    --jp-ui-font-color1: white;\n",
       "                    --jp-layout-color2: #454545;\n",
       "                    background-color: #383838;\n",
       "                }\n",
       "\n",
       "                .geemap-dark .jupyter-button {\n",
       "                    --jp-layout-color3: #383838;\n",
       "                }\n",
       "\n",
       "                .geemap-colab {\n",
       "                    background-color: var(--colab-primary-surface-color, white);\n",
       "                }\n",
       "\n",
       "                .geemap-colab .jupyter-button {\n",
       "                    --jp-layout-color3: var(--colab-primary-surface-color, white);\n",
       "                }\n",
       "            </style>\n",
       "            "
      ],
      "text/plain": [
       "<IPython.core.display.HTML object>"
      ]
     },
     "metadata": {},
     "output_type": "display_data"
    }
   ],
   "source": [
    "ee.Authenticate()\n",
    "ee.Initialize(project='ee-wherediddavidgo')"
   ]
  },
  {
   "cell_type": "code",
   "execution_count": 3,
   "metadata": {},
   "outputs": [
    {
     "data": {
      "text/html": [
       "\n",
       "            <style>\n",
       "                .geemap-dark {\n",
       "                    --jp-widgets-color: white;\n",
       "                    --jp-widgets-label-color: white;\n",
       "                    --jp-ui-font-color1: white;\n",
       "                    --jp-layout-color2: #454545;\n",
       "                    background-color: #383838;\n",
       "                }\n",
       "\n",
       "                .geemap-dark .jupyter-button {\n",
       "                    --jp-layout-color3: #383838;\n",
       "                }\n",
       "\n",
       "                .geemap-colab {\n",
       "                    background-color: var(--colab-primary-surface-color, white);\n",
       "                }\n",
       "\n",
       "                .geemap-colab .jupyter-button {\n",
       "                    --jp-layout-color3: var(--colab-primary-surface-color, white);\n",
       "                }\n",
       "            </style>\n",
       "            "
      ],
      "text/plain": [
       "<IPython.core.display.HTML object>"
      ]
     },
     "metadata": {},
     "output_type": "display_data"
    }
   ],
   "source": [
    "import rssa_utils as utils"
   ]
  },
  {
   "cell_type": "code",
   "execution_count": 4,
   "metadata": {},
   "outputs": [
    {
     "data": {
      "text/html": [
       "\n",
       "            <style>\n",
       "                .geemap-dark {\n",
       "                    --jp-widgets-color: white;\n",
       "                    --jp-widgets-label-color: white;\n",
       "                    --jp-ui-font-color1: white;\n",
       "                    --jp-layout-color2: #454545;\n",
       "                    background-color: #383838;\n",
       "                }\n",
       "\n",
       "                .geemap-dark .jupyter-button {\n",
       "                    --jp-layout-color3: #383838;\n",
       "                }\n",
       "\n",
       "                .geemap-colab {\n",
       "                    background-color: var(--colab-primary-surface-color, white);\n",
       "                }\n",
       "\n",
       "                .geemap-colab .jupyter-button {\n",
       "                    --jp-layout-color3: var(--colab-primary-surface-color, white);\n",
       "                }\n",
       "            </style>\n",
       "            "
      ],
      "text/plain": [
       "<IPython.core.display.HTML object>"
      ]
     },
     "metadata": {},
     "output_type": "display_data"
    }
   ],
   "source": [
    "clBuffer = ee.FeatureCollection('projects/ee-wherediddavidgo/assets/s2_platte_centerlines_3xbuffer')\n",
    "rCl = ee.Image('projects/ee-wherediddavidgo/assets/1px_cl_mosaic')\n",
    "vCl = ee.FeatureCollection('projects/ee-wherediddavidgo/assets/s2_platte_centerlines')\n",
    "# xSectionEnds = ee.FeatureCollection('projects/ee-wherediddavidgo/assets/platte_x_section_ends_200m')\n",
    "# xLines = ee.FeatureCollection('projects/ee-wherediddavidgo/assets/platte_xlines_5xmean_200m')\n",
    "\n",
    "pts = ee.FeatureCollection('projects/ee-wherediddavidgo/assets/platte_points')\n",
    "watershed = ee.FeatureCollection('projects/ee-wherediddavidgo/assets/platte_watershed_boundary')\n",
    "# classifier_table = utils.TRAIN_KNN()\n",
    "# classifier_table = classifier_table.set_index('month')\n",
    "\n",
    "big_ic = ee.ImageCollection('COPERNICUS/S2_SR_HARMONIZED')\\\n",
    "    .filterMetadata('CLOUDY_PIXEL_PERCENTAGE', 'less_than', 20)\\\n",
    "    .filterBounds(pts.geometry())"
   ]
  },
  {
   "cell_type": "code",
   "execution_count": 5,
   "metadata": {},
   "outputs": [
    {
     "data": {
      "text/html": [
       "\n",
       "            <style>\n",
       "                .geemap-dark {\n",
       "                    --jp-widgets-color: white;\n",
       "                    --jp-widgets-label-color: white;\n",
       "                    --jp-ui-font-color1: white;\n",
       "                    --jp-layout-color2: #454545;\n",
       "                    background-color: #383838;\n",
       "                }\n",
       "\n",
       "                .geemap-dark .jupyter-button {\n",
       "                    --jp-layout-color3: #383838;\n",
       "                }\n",
       "\n",
       "                .geemap-colab {\n",
       "                    background-color: var(--colab-primary-surface-color, white);\n",
       "                }\n",
       "\n",
       "                .geemap-colab .jupyter-button {\n",
       "                    --jp-layout-color3: var(--colab-primary-surface-color, white);\n",
       "                }\n",
       "            </style>\n",
       "            "
      ],
      "text/plain": [
       "<IPython.core.display.HTML object>"
      ]
     },
     "metadata": {},
     "output_type": "display_data"
    }
   ],
   "source": [
    "def EXTRACT_WIDTHS_FROM_IMAGE(scene):\n",
    "    aoi = clBuffer.geometry().intersection(scene.geometry())\n",
    "\n",
    "    # month = (scene.date().get('month'))\n",
    "    \n",
    "    # tile = ee.String('T').cat(scene.get('MGRS_TILE'))\n",
    "\n",
    "    # knnClassifier = classifier_table.at[month, 'classifier']\n",
    "    scene = utils.ADD_WATER_MASK(scene, aoi)\n",
    "    scene = utils.EXTRACT_RIVER(scene, rCl, 1000, 333)\n",
    "\n",
    "    scene = utils.UNPACK_SCL(scene)\n",
    "    # scene = utils.ADD_CLOUD_MASK(scene)\n",
    "    # scene = utils.ADD_SNOW_FLAG(scene)\n",
    "    # scene = utils.CALC_HILLSHADOW(scene)\n",
    "\n",
    "    widths = utils.CALCULATE_WIDTH(scene, pts.filterBounds(scene.geometry()))\n",
    "\n",
    "    cpp = scene.get('CLOUDY_PIXEL_PERCENTAGE')\n",
    "    dt = scene.date()\n",
    "\n",
    "    \n",
    "    def add_info(f):\n",
    "        return f.set({'scene_cloudy_pixel_percentage': cpp,\n",
    "                      'scene_date': dt})\n",
    "    \n",
    "    widths = widths.map(add_info)\n",
    "    \n",
    "\n",
    "    return widths"
   ]
  },
  {
   "cell_type": "markdown",
   "metadata": {},
   "source": [
    "extract widths per tile per year"
   ]
  },
  {
   "cell_type": "code",
   "execution_count": 9,
   "metadata": {},
   "outputs": [
    {
     "data": {
      "text/html": [
       "\n",
       "            <style>\n",
       "                .geemap-dark {\n",
       "                    --jp-widgets-color: white;\n",
       "                    --jp-widgets-label-color: white;\n",
       "                    --jp-ui-font-color1: white;\n",
       "                    --jp-layout-color2: #454545;\n",
       "                    background-color: #383838;\n",
       "                }\n",
       "\n",
       "                .geemap-dark .jupyter-button {\n",
       "                    --jp-layout-color3: #383838;\n",
       "                }\n",
       "\n",
       "                .geemap-colab {\n",
       "                    background-color: var(--colab-primary-surface-color, white);\n",
       "                }\n",
       "\n",
       "                .geemap-colab .jupyter-button {\n",
       "                    --jp-layout-color3: var(--colab-primary-surface-color, white);\n",
       "                }\n",
       "            </style>\n",
       "            "
      ],
      "text/plain": [
       "<IPython.core.display.HTML object>"
      ]
     },
     "metadata": {},
     "output_type": "display_data"
    },
    {
     "name": "stdout",
     "output_type": "stream",
     "text": [
      "year: 2018, month: 1, n images: 42\n",
      "year: 2018, month: 2, n images: 93\n",
      "year: 2018, month: 3, n images: 127\n",
      "year: 2018, month: 4, n images: 73\n",
      "year: 2018, month: 5, n images: 79\n",
      "year: 2018, month: 6, n images: 144\n",
      "year: 2018, month: 7, n images: 180\n",
      "year: 2018, month: 8, n images: 180\n",
      "year: 2018, month: 9, n images: 106\n",
      "year: 2018, month: 10, n images: 112\n",
      "year: 2018, month: 11, n images: 74\n",
      "year: 2018, month: 12, n images: 130\n"
     ]
    }
   ],
   "source": [
    "props = ['system:index', 'img_id', 'MLength', 'any', 'cloud_mask', 'cloudwater_mask', 'count', 'endsInWater', 'endsOverEdge', 'iindex', 'river_mask', 'scene_cloudy_pixel_percentage', 'scene_date', 'snow_mask', 'width', 'x', 'y']\n",
    "for year in range(2018, 2019):\n",
    "    for month in range(1, 13):\n",
    "        temp_ic = big_ic\\\n",
    "            .filter(ee.Filter.calendarRange(month, None, 'month'))\\\n",
    "            .filter(ee.Filter.calendarRange(year, None, 'year'))\n",
    "        \n",
    "        widths = temp_ic.map(EXTRACT_WIDTHS_FROM_IMAGE).flatten().select(props)\n",
    "            \n",
    "        task = ee.batch.Export.table.toDrive(**{\n",
    "            'collection': widths,\n",
    "            'folder': 'rwc_exports',\n",
    "            'fileNamePrefix': f'{year}_{month}_widths',\n",
    "            'description': f'{year}_{month}_widths',\n",
    "\n",
    "        })\n",
    "\n",
    "        task.start()\n",
    "            \n",
    "        print(f'year: {year}, month: {month}, n images: {temp_ic.size().getInfo()}')"
   ]
  },
  {
   "cell_type": "code",
   "execution_count": 7,
   "metadata": {},
   "outputs": [
    {
     "data": {
      "text/html": [
       "\n",
       "            <style>\n",
       "                .geemap-dark {\n",
       "                    --jp-widgets-color: white;\n",
       "                    --jp-widgets-label-color: white;\n",
       "                    --jp-ui-font-color1: white;\n",
       "                    --jp-layout-color2: #454545;\n",
       "                    background-color: #383838;\n",
       "                }\n",
       "\n",
       "                .geemap-dark .jupyter-button {\n",
       "                    --jp-layout-color3: #383838;\n",
       "                }\n",
       "\n",
       "                .geemap-colab {\n",
       "                    background-color: var(--colab-primary-surface-color, white);\n",
       "                }\n",
       "\n",
       "                .geemap-colab .jupyter-button {\n",
       "                    --jp-layout-color3: var(--colab-primary-surface-color, white);\n",
       "                }\n",
       "            </style>\n",
       "            "
      ],
      "text/plain": [
       "<IPython.core.display.HTML object>"
      ]
     },
     "metadata": {},
     "output_type": "display_data"
    },
    {
     "data": {
      "text/html": [
       "<div><style>:root {\n",
       "  --font-color-primary: var(--jp-content-font-color0, rgba(0, 0, 0, 1));\n",
       "  --font-color-secondary: var(--jp-content-font-color2, rgba(0, 0, 0, 0.7));\n",
       "  --font-color-accent: rgba(123, 31, 162, 1);\n",
       "  --border-color: var(--jp-border-color2, #e0e0e0);\n",
       "  --background-color: var(--jp-layout-color0, white);\n",
       "  --background-color-row-even: var(--jp-layout-color1, white);\n",
       "  --background-color-row-odd: var(--jp-layout-color2, #eeeeee);\n",
       "}\n",
       "\n",
       "html[theme=\"dark\"],\n",
       "body[data-theme=\"dark\"],\n",
       "body.vscode-dark {\n",
       "  --font-color-primary: rgba(255, 255, 255, 1);\n",
       "  --font-color-secondary: rgba(255, 255, 255, 0.7);\n",
       "  --font-color-accent: rgb(173, 132, 190);\n",
       "  --border-color: #2e2e2e;\n",
       "  --background-color: #111111;\n",
       "  --background-color-row-even: #111111;\n",
       "  --background-color-row-odd: #313131;\n",
       "}\n",
       "\n",
       ".eerepr {\n",
       "  padding: 1em;\n",
       "  line-height: 1.5em;\n",
       "  min-width: 300px;\n",
       "  max-width: 1200px;\n",
       "  overflow-y: scroll;\n",
       "  max-height: 600px;\n",
       "  border: 1px solid var(--border-color);\n",
       "  font-family: monospace;\n",
       "  font-size: 14px;\n",
       "}\n",
       "\n",
       ".eerepr li {\n",
       "  list-style-type: none;\n",
       "  margin: 0;\n",
       "}\n",
       "\n",
       ".eerepr ul {\n",
       "  padding-left: 1.5em !important;\n",
       "  margin: 0;\n",
       "}\n",
       "\n",
       ".eerepr > ul {\n",
       "  padding-left: 0 !important;\n",
       "}\n",
       "\n",
       ".eerepr summary {\n",
       "  color: var(--font-color-secondary);\n",
       "  cursor: pointer;\n",
       "  margin: 0;\n",
       "}\n",
       "\n",
       ".eerepr summary:hover {\n",
       "  color: var(--font-color-primary);\n",
       "  background-color: var(--background-color-row-odd)\n",
       "}\n",
       "\n",
       ".ee-k {\n",
       "  color: var(--font-color-accent);\n",
       "  margin-right: 6px;\n",
       "}\n",
       "\n",
       ".ee-v {\n",
       "  color: var(--font-color-primary);\n",
       "}\n",
       "\n",
       ".eerepr details > summary::before {\n",
       "  content: '▼';\n",
       "  display: inline-block;\n",
       "  margin-right: 6px;\n",
       "  transition: transform 0.2s;\n",
       "  transform: rotate(-90deg);\n",
       "}\n",
       "\n",
       ".eerepr details[open] > summary::before {\n",
       "  transform: rotate(0deg);\n",
       "}\n",
       "\n",
       ".eerepr details summary::-webkit-details-marker {\n",
       "  display:none;\n",
       "}\n",
       "\n",
       ".eerepr details summary {\n",
       "  list-style-type: none;\n",
       "}\n",
       "</style><div class='eerepr'><ul><li><details><summary>FeatureCollection (10 elements, 0 columns)</summary><ul><li><span class='ee-k'>type:</span><span class='ee-v'>FeatureCollection</span></li><li><details><summary>columns: Object (0 properties)</summary><ul></ul></details></li><li><details><summary>features: List (10 elements)</summary><ul><li><details><summary>0: Feature (16 properties)</summary><ul><li><span class='ee-k'>type:</span><span class='ee-v'>Feature</span></li><li><span class='ee-k'>id:</span><span class='ee-v'>20180107T175721_20180107T175719_T13TEE_00000000000000000000</span></li><li><span class='ee-k'>geometry:</span><span class='ee-v'>None</span></li><li><details><summary>properties: Object (16 properties)</summary><ul><li><span class='ee-k'>MLength:</span><span class='ee-v'>30</span></li><li><span class='ee-k'>any:</span><span class='ee-v'>1</span></li><li><span class='ee-k'>cloud_mask:</span><span class='ee-v'>0</span></li><li><span class='ee-k'>cloudwater_mask:</span><span class='ee-v'>0</span></li><li><span class='ee-k'>count:</span><span class='ee-v'>2</span></li><li><span class='ee-k'>endsInWater:</span><span class='ee-v'>1</span></li><li><span class='ee-k'>endsOverEdge:</span><span class='ee-v'>0</span></li><li><span class='ee-k'>iindex:</span><span class='ee-v'>20990</span></li><li><span class='ee-k'>img_id:</span><span class='ee-v'>S2A_MSIL2A_20180107T175721_N0500_R141_T13TEE_20230824T211136</span></li><li><span class='ee-k'>river_mask:</span><span class='ee-v'>1</span></li><li><span class='ee-k'>scene_cloudy_pixel_percentage:</span><span class='ee-v'>5.866226</span></li><li><details><summary>scene_date: Date (2018-01-07 18:02:43)</summary><ul><li><span class='ee-k'>type:</span><span class='ee-v'>Date</span></li><li><span class='ee-k'>value:</span><span class='ee-v'>1515348163383</span></li></ul></details></li><li><span class='ee-k'>snow_mask:</span><span class='ee-v'>0</span></li><li><span class='ee-k'>width:</span><span class='ee-v'>30</span></li><li><span class='ee-k'>x:</span><span class='ee-v'>-104.15278399070408</span></li><li><span class='ee-k'>y:</span><span class='ee-v'>40.306732996914306</span></li></ul></details></li></ul></details></li><li><details><summary>1: Feature (16 properties)</summary><ul><li><span class='ee-k'>type:</span><span class='ee-v'>Feature</span></li><li><span class='ee-k'>id:</span><span class='ee-v'>20180107T175721_20180107T175719_T13TEE_00000000000000000002</span></li><li><span class='ee-k'>geometry:</span><span class='ee-v'>None</span></li><li><details><summary>properties: Object (16 properties)</summary><ul><li><span class='ee-k'>MLength:</span><span class='ee-v'>30</span></li><li><span class='ee-k'>any:</span><span class='ee-v'>1</span></li><li><span class='ee-k'>cloud_mask:</span><span class='ee-v'>0</span></li><li><span class='ee-k'>cloudwater_mask:</span><span class='ee-v'>0</span></li><li><span class='ee-k'>count:</span><span class='ee-v'>2</span></li><li><span class='ee-k'>endsInWater:</span><span class='ee-v'>1</span></li><li><span class='ee-k'>endsOverEdge:</span><span class='ee-v'>0</span></li><li><span class='ee-k'>iindex:</span><span class='ee-v'>20530</span></li><li><span class='ee-k'>img_id:</span><span class='ee-v'>S2A_MSIL2A_20180107T175721_N0500_R141_T13TEE_20230824T211136</span></li><li><span class='ee-k'>river_mask:</span><span class='ee-v'>0.5</span></li><li><span class='ee-k'>scene_cloudy_pixel_percentage:</span><span class='ee-v'>5.866226</span></li><li><details><summary>scene_date: Date (2018-01-07 18:02:43)</summary><ul><li><span class='ee-k'>type:</span><span class='ee-v'>Date</span></li><li><span class='ee-k'>value:</span><span class='ee-v'>1515348163383</span></li></ul></details></li><li><span class='ee-k'>snow_mask:</span><span class='ee-v'>0</span></li><li><span class='ee-k'>width:</span><span class='ee-v'>15</span></li><li><span class='ee-k'>x:</span><span class='ee-v'>-104.88733616633928</span></li><li><span class='ee-k'>y:</span><span class='ee-v'>40.249152625011156</span></li></ul></details></li></ul></details></li><li><details><summary>2: Feature (16 properties)</summary><ul><li><span class='ee-k'>type:</span><span class='ee-v'>Feature</span></li><li><span class='ee-k'>id:</span><span class='ee-v'>20180107T175721_20180107T175719_T13TEE_00000000000000000005</span></li><li><span class='ee-k'>geometry:</span><span class='ee-v'>None</span></li><li><details><summary>properties: Object (16 properties)</summary><ul><li><span class='ee-k'>MLength:</span><span class='ee-v'>30</span></li><li><span class='ee-k'>any:</span><span class='ee-v'>0</span></li><li><span class='ee-k'>cloud_mask:</span><span class='ee-v'>0</span></li><li><span class='ee-k'>cloudwater_mask:</span><span class='ee-v'>0</span></li><li><span class='ee-k'>count:</span><span class='ee-v'>2</span></li><li><span class='ee-k'>endsInWater:</span><span class='ee-v'>0</span></li><li><span class='ee-k'>endsOverEdge:</span><span class='ee-v'>0</span></li><li><span class='ee-k'>iindex:</span><span class='ee-v'>32562</span></li><li><span class='ee-k'>img_id:</span><span class='ee-v'>S2A_MSIL2A_20180107T175721_N0500_R141_T13TEE_20230824T211136</span></li><li><span class='ee-k'>river_mask:</span><span class='ee-v'>0</span></li><li><span class='ee-k'>scene_cloudy_pixel_percentage:</span><span class='ee-v'>5.866226</span></li><li><details><summary>scene_date: Date (2018-01-07 18:02:43)</summary><ul><li><span class='ee-k'>type:</span><span class='ee-v'>Date</span></li><li><span class='ee-k'>value:</span><span class='ee-v'>1515348163383</span></li></ul></details></li><li><span class='ee-k'>snow_mask:</span><span class='ee-v'>0</span></li><li><span class='ee-k'>width:</span><span class='ee-v'>0</span></li><li><span class='ee-k'>x:</span><span class='ee-v'>-104.85886034701197</span></li><li><span class='ee-k'>y:</span><span class='ee-v'>40.23280110144817</span></li></ul></details></li></ul></details></li><li><details><summary>3: Feature (16 properties)</summary><ul><li><span class='ee-k'>type:</span><span class='ee-v'>Feature</span></li><li><span class='ee-k'>id:</span><span class='ee-v'>20180107T175721_20180107T175719_T13TEE_0000000000000000000a</span></li><li><span class='ee-k'>geometry:</span><span class='ee-v'>None</span></li><li><details><summary>properties: Object (16 properties)</summary><ul><li><span class='ee-k'>MLength:</span><span class='ee-v'>30</span></li><li><span class='ee-k'>any:</span><span class='ee-v'>1</span></li><li><span class='ee-k'>cloud_mask:</span><span class='ee-v'>0</span></li><li><span class='ee-k'>cloudwater_mask:</span><span class='ee-v'>0</span></li><li><span class='ee-k'>count:</span><span class='ee-v'>2</span></li><li><span class='ee-k'>endsInWater:</span><span class='ee-v'>1</span></li><li><span class='ee-k'>endsOverEdge:</span><span class='ee-v'>0</span></li><li><span class='ee-k'>iindex:</span><span class='ee-v'>15997</span></li><li><span class='ee-k'>img_id:</span><span class='ee-v'>S2A_MSIL2A_20180107T175721_N0500_R141_T13TEE_20230824T211136</span></li><li><span class='ee-k'>river_mask:</span><span class='ee-v'>0.23952738990332975</span></li><li><span class='ee-k'>scene_cloudy_pixel_percentage:</span><span class='ee-v'>5.866226</span></li><li><details><summary>scene_date: Date (2018-01-07 18:02:43)</summary><ul><li><span class='ee-k'>type:</span><span class='ee-v'>Date</span></li><li><span class='ee-k'>value:</span><span class='ee-v'>1515348163383</span></li></ul></details></li><li><span class='ee-k'>snow_mask:</span><span class='ee-v'>0</span></li><li><span class='ee-k'>width:</span><span class='ee-v'>7.185821697099892</span></li><li><span class='ee-k'>x:</span><span class='ee-v'>-104.7650765336559</span></li><li><span class='ee-k'>y:</span><span class='ee-v'>40.342575251181906</span></li></ul></details></li></ul></details></li><li><details><summary>4: Feature (16 properties)</summary><ul><li><span class='ee-k'>type:</span><span class='ee-v'>Feature</span></li><li><span class='ee-k'>id:</span><span class='ee-v'>20180107T175721_20180107T175719_T13TEE_0000000000000000000b</span></li><li><span class='ee-k'>geometry:</span><span class='ee-v'>None</span></li><li><details><summary>properties: Object (16 properties)</summary><ul><li><span class='ee-k'>MLength:</span><span class='ee-v'>30</span></li><li><span class='ee-k'>any:</span><span class='ee-v'>0</span></li><li><span class='ee-k'>cloud_mask:</span><span class='ee-v'>0</span></li><li><span class='ee-k'>cloudwater_mask:</span><span class='ee-v'>0</span></li><li><span class='ee-k'>count:</span><span class='ee-v'>2</span></li><li><span class='ee-k'>endsInWater:</span><span class='ee-v'>0</span></li><li><span class='ee-k'>endsOverEdge:</span><span class='ee-v'>0</span></li><li><span class='ee-k'>iindex:</span><span class='ee-v'>24679</span></li><li><span class='ee-k'>img_id:</span><span class='ee-v'>S2A_MSIL2A_20180107T175721_N0500_R141_T13TEE_20230824T211136</span></li><li><span class='ee-k'>river_mask:</span><span class='ee-v'>0</span></li><li><span class='ee-k'>scene_cloudy_pixel_percentage:</span><span class='ee-v'>5.866226</span></li><li><details><summary>scene_date: Date (2018-01-07 18:02:43)</summary><ul><li><span class='ee-k'>type:</span><span class='ee-v'>Date</span></li><li><span class='ee-k'>value:</span><span class='ee-v'>1515348163383</span></li></ul></details></li><li><span class='ee-k'>snow_mask:</span><span class='ee-v'>0</span></li><li><span class='ee-k'>width:</span><span class='ee-v'>0</span></li><li><span class='ee-k'>x:</span><span class='ee-v'>-104.8630831157096</span></li><li><span class='ee-k'>y:</span><span class='ee-v'>40.235498857585505</span></li></ul></details></li></ul></details></li><li><details><summary>5: Feature (16 properties)</summary><ul><li><span class='ee-k'>type:</span><span class='ee-v'>Feature</span></li><li><span class='ee-k'>id:</span><span class='ee-v'>20180107T175721_20180107T175719_T13TEE_0000000000000000000c</span></li><li><span class='ee-k'>geometry:</span><span class='ee-v'>None</span></li><li><details><summary>properties: Object (16 properties)</summary><ul><li><span class='ee-k'>MLength:</span><span class='ee-v'>30</span></li><li><span class='ee-k'>any:</span><span class='ee-v'>0</span></li><li><span class='ee-k'>cloud_mask:</span><span class='ee-v'>0</span></li><li><span class='ee-k'>cloudwater_mask:</span><span class='ee-v'>0</span></li><li><span class='ee-k'>count:</span><span class='ee-v'>2</span></li><li><span class='ee-k'>endsInWater:</span><span class='ee-v'>0</span></li><li><span class='ee-k'>endsOverEdge:</span><span class='ee-v'>0</span></li><li><span class='ee-k'>iindex:</span><span class='ee-v'>33675</span></li><li><span class='ee-k'>img_id:</span><span class='ee-v'>S2A_MSIL2A_20180107T175721_N0500_R141_T13TEE_20230824T211136</span></li><li><span class='ee-k'>river_mask:</span><span class='ee-v'>0</span></li><li><span class='ee-k'>scene_cloudy_pixel_percentage:</span><span class='ee-v'>5.866226</span></li><li><details><summary>scene_date: Date (2018-01-07 18:02:43)</summary><ul><li><span class='ee-k'>type:</span><span class='ee-v'>Date</span></li><li><span class='ee-k'>value:</span><span class='ee-v'>1515348163383</span></li></ul></details></li><li><span class='ee-k'>snow_mask:</span><span class='ee-v'>0</span></li><li><span class='ee-k'>width:</span><span class='ee-v'>0</span></li><li><span class='ee-k'>x:</span><span class='ee-v'>-104.82858750996016</span></li><li><span class='ee-k'>y:</span><span class='ee-v'>40.146562087074535</span></li></ul></details></li></ul></details></li><li><details><summary>6: Feature (16 properties)</summary><ul><li><span class='ee-k'>type:</span><span class='ee-v'>Feature</span></li><li><span class='ee-k'>id:</span><span class='ee-v'>20180107T175721_20180107T175719_T13TEE_0000000000000000000f</span></li><li><span class='ee-k'>geometry:</span><span class='ee-v'>None</span></li><li><details><summary>properties: Object (16 properties)</summary><ul><li><span class='ee-k'>MLength:</span><span class='ee-v'>30</span></li><li><span class='ee-k'>any:</span><span class='ee-v'>0</span></li><li><span class='ee-k'>cloud_mask:</span><span class='ee-v'>0</span></li><li><span class='ee-k'>cloudwater_mask:</span><span class='ee-v'>0</span></li><li><span class='ee-k'>count:</span><span class='ee-v'>2</span></li><li><span class='ee-k'>endsInWater:</span><span class='ee-v'>0</span></li><li><span class='ee-k'>endsOverEdge:</span><span class='ee-v'>0</span></li><li><span class='ee-k'>iindex:</span><span class='ee-v'>23806</span></li><li><span class='ee-k'>img_id:</span><span class='ee-v'>S2A_MSIL2A_20180107T175721_N0500_R141_T13TEE_20230824T211136</span></li><li><span class='ee-k'>river_mask:</span><span class='ee-v'>0</span></li><li><span class='ee-k'>scene_cloudy_pixel_percentage:</span><span class='ee-v'>5.866226</span></li><li><details><summary>scene_date: Date (2018-01-07 18:02:43)</summary><ul><li><span class='ee-k'>type:</span><span class='ee-v'>Date</span></li><li><span class='ee-k'>value:</span><span class='ee-v'>1515348163383</span></li></ul></details></li><li><span class='ee-k'>snow_mask:</span><span class='ee-v'>0</span></li><li><span class='ee-k'>width:</span><span class='ee-v'>0</span></li><li><span class='ee-k'>x:</span><span class='ee-v'>-104.82652294617239</span></li><li><span class='ee-k'>y:</span><span class='ee-v'>40.29981693118041</span></li></ul></details></li></ul></details></li><li><details><summary>7: Feature (16 properties)</summary><ul><li><span class='ee-k'>type:</span><span class='ee-v'>Feature</span></li><li><span class='ee-k'>id:</span><span class='ee-v'>20180107T175721_20180107T175719_T13TEE_00000000000000000010</span></li><li><span class='ee-k'>geometry:</span><span class='ee-v'>None</span></li><li><details><summary>properties: Object (16 properties)</summary><ul><li><span class='ee-k'>MLength:</span><span class='ee-v'>30</span></li><li><span class='ee-k'>any:</span><span class='ee-v'>1</span></li><li><span class='ee-k'>cloud_mask:</span><span class='ee-v'>0</span></li><li><span class='ee-k'>cloudwater_mask:</span><span class='ee-v'>0</span></li><li><span class='ee-k'>count:</span><span class='ee-v'>2</span></li><li><span class='ee-k'>endsInWater:</span><span class='ee-v'>1</span></li><li><span class='ee-k'>endsOverEdge:</span><span class='ee-v'>0</span></li><li><span class='ee-k'>iindex:</span><span class='ee-v'>43576</span></li><li><span class='ee-k'>img_id:</span><span class='ee-v'>S2A_MSIL2A_20180107T175721_N0500_R141_T13TEE_20230824T211136</span></li><li><span class='ee-k'>river_mask:</span><span class='ee-v'>1</span></li><li><span class='ee-k'>scene_cloudy_pixel_percentage:</span><span class='ee-v'>5.866226</span></li><li><details><summary>scene_date: Date (2018-01-07 18:02:43)</summary><ul><li><span class='ee-k'>type:</span><span class='ee-v'>Date</span></li><li><span class='ee-k'>value:</span><span class='ee-v'>1515348163383</span></li></ul></details></li><li><span class='ee-k'>snow_mask:</span><span class='ee-v'>0</span></li><li><span class='ee-k'>width:</span><span class='ee-v'>30</span></li><li><span class='ee-k'>x:</span><span class='ee-v'>-104.7844825414405</span></li><li><span class='ee-k'>y:</span><span class='ee-v'>40.334852088157334</span></li></ul></details></li></ul></details></li><li><details><summary>8: Feature (16 properties)</summary><ul><li><span class='ee-k'>type:</span><span class='ee-v'>Feature</span></li><li><span class='ee-k'>id:</span><span class='ee-v'>20180107T175721_20180107T175719_T13TEE_00000000000000000016</span></li><li><span class='ee-k'>geometry:</span><span class='ee-v'>None</span></li><li><details><summary>properties: Object (16 properties)</summary><ul><li><span class='ee-k'>MLength:</span><span class='ee-v'>30</span></li><li><span class='ee-k'>any:</span><span class='ee-v'>0</span></li><li><span class='ee-k'>cloud_mask:</span><span class='ee-v'>0</span></li><li><span class='ee-k'>cloudwater_mask:</span><span class='ee-v'>0</span></li><li><span class='ee-k'>count:</span><span class='ee-v'>2</span></li><li><span class='ee-k'>endsInWater:</span><span class='ee-v'>0</span></li><li><span class='ee-k'>endsOverEdge:</span><span class='ee-v'>0</span></li><li><span class='ee-k'>iindex:</span><span class='ee-v'>35726</span></li><li><span class='ee-k'>img_id:</span><span class='ee-v'>S2A_MSIL2A_20180107T175721_N0500_R141_T13TEE_20230824T211136</span></li><li><span class='ee-k'>river_mask:</span><span class='ee-v'>0</span></li><li><span class='ee-k'>scene_cloudy_pixel_percentage:</span><span class='ee-v'>5.866226</span></li><li><details><summary>scene_date: Date (2018-01-07 18:02:43)</summary><ul><li><span class='ee-k'>type:</span><span class='ee-v'>Date</span></li><li><span class='ee-k'>value:</span><span class='ee-v'>1515348163383</span></li></ul></details></li><li><span class='ee-k'>snow_mask:</span><span class='ee-v'>0</span></li><li><span class='ee-k'>width:</span><span class='ee-v'>0</span></li><li><span class='ee-k'>x:</span><span class='ee-v'>-104.82481511046892</span></li><li><span class='ee-k'>y:</span><span class='ee-v'>40.06257045963182</span></li></ul></details></li></ul></details></li><li><details><summary>9: Feature (16 properties)</summary><ul><li><span class='ee-k'>type:</span><span class='ee-v'>Feature</span></li><li><span class='ee-k'>id:</span><span class='ee-v'>20180107T175721_20180107T175719_T13TEE_0000000000000000001e</span></li><li><span class='ee-k'>geometry:</span><span class='ee-v'>None</span></li><li><details><summary>properties: Object (16 properties)</summary><ul><li><span class='ee-k'>MLength:</span><span class='ee-v'>30</span></li><li><span class='ee-k'>any:</span><span class='ee-v'>1</span></li><li><span class='ee-k'>cloud_mask:</span><span class='ee-v'>0</span></li><li><span class='ee-k'>cloudwater_mask:</span><span class='ee-v'>0</span></li><li><span class='ee-k'>count:</span><span class='ee-v'>2</span></li><li><span class='ee-k'>endsInWater:</span><span class='ee-v'>1</span></li><li><span class='ee-k'>endsOverEdge:</span><span class='ee-v'>0</span></li><li><span class='ee-k'>iindex:</span><span class='ee-v'>35169</span></li><li><span class='ee-k'>img_id:</span><span class='ee-v'>S2A_MSIL2A_20180107T175721_N0500_R141_T13TEE_20230824T211136</span></li><li><span class='ee-k'>river_mask:</span><span class='ee-v'>0.40988372093023256</span></li><li><span class='ee-k'>scene_cloudy_pixel_percentage:</span><span class='ee-v'>5.866226</span></li><li><details><summary>scene_date: Date (2018-01-07 18:02:43)</summary><ul><li><span class='ee-k'>type:</span><span class='ee-v'>Date</span></li><li><span class='ee-k'>value:</span><span class='ee-v'>1515348163383</span></li></ul></details></li><li><span class='ee-k'>snow_mask:</span><span class='ee-v'>0</span></li><li><span class='ee-k'>width:</span><span class='ee-v'>12.296511627906977</span></li><li><span class='ee-k'>x:</span><span class='ee-v'>-104.81502292455555</span></li><li><span class='ee-k'>y:</span><span class='ee-v'>40.111081019992255</span></li></ul></details></li></ul></details></li></ul></details></li></ul></details></li></ul></div></div>"
      ],
      "text/plain": [
       "<ee.featurecollection.FeatureCollection at 0x11dc9e6f0>"
      ]
     },
     "execution_count": 7,
     "metadata": {},
     "output_type": "execute_result"
    }
   ],
   "source": [
    "widths.limit(10)\n",
    "# .select(['system:index', 'img_id', 'MLength', 'any', 'cloud_mask', 'count', 'endsInWater', 'endsOverEdge', 'iindex', 'river_mask', 'scene_cloudy_pixel_percentage', 'scene_date', 'snow_mask', 'width', 'x', 'y'])\n"
   ]
  },
  {
   "cell_type": "code",
   "execution_count": 8,
   "metadata": {},
   "outputs": [
    {
     "data": {
      "text/html": [
       "\n",
       "            <style>\n",
       "                .geemap-dark {\n",
       "                    --jp-widgets-color: white;\n",
       "                    --jp-widgets-label-color: white;\n",
       "                    --jp-ui-font-color1: white;\n",
       "                    --jp-layout-color2: #454545;\n",
       "                    background-color: #383838;\n",
       "                }\n",
       "\n",
       "                .geemap-dark .jupyter-button {\n",
       "                    --jp-layout-color3: #383838;\n",
       "                }\n",
       "\n",
       "                .geemap-colab {\n",
       "                    background-color: var(--colab-primary-surface-color, white);\n",
       "                }\n",
       "\n",
       "                .geemap-colab .jupyter-button {\n",
       "                    --jp-layout-color3: var(--colab-primary-surface-color, white);\n",
       "                }\n",
       "            </style>\n",
       "            "
      ],
      "text/plain": [
       "<IPython.core.display.HTML object>"
      ]
     },
     "metadata": {},
     "output_type": "display_data"
    }
   ],
   "source": [
    "task = ee.batch.Export.table.toDrive(**{\n",
    "            'collection': widths.limit(10),\n",
    "            'folder': 'MyDrive/poop',\n",
    "            'fileNamePrefix': f'poop',\n",
    "            'description': f'poop',\n",
    "\n",
    "        })\n",
    "\n",
    "task.start()"
   ]
  },
  {
   "cell_type": "code",
   "execution_count": null,
   "metadata": {},
   "outputs": [],
   "source": []
  }
 ],
 "metadata": {
  "kernelspec": {
   "display_name": "Python 3",
   "language": "python",
   "name": "python3"
  },
  "language_info": {
   "codemirror_mode": {
    "name": "ipython",
    "version": 3
   },
   "file_extension": ".py",
   "mimetype": "text/x-python",
   "name": "python",
   "nbconvert_exporter": "python",
   "pygments_lexer": "ipython3",
   "version": "3.13.1"
  }
 },
 "nbformat": 4,
 "nbformat_minor": 2
}
